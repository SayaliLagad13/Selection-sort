{
 "cells": [
  {
   "cell_type": "code",
   "execution_count": 3,
   "id": "775aa462",
   "metadata": {},
   "outputs": [],
   "source": [
    "def SelectionSort(arr,n):\n",
    "    for i in range(n):\n",
    "        min=i\n",
    "        for j in range(i+1,n):\n",
    "            if(arr[j]<arr[min]):\n",
    "                min=j\n",
    "                temp=arr[i]\n",
    "                arr[i]=arr[min]\n",
    "                arr[min]=temp\n",
    "                print(arr)\n",
    "                print(\"Top Five Scores are:\",arr[:-6:-1])\n",
    "                \n",
    "def BubbleSort(arr,n):\n",
    "    for i in range(n-1):\n",
    "        for j in range(0,n-i-1):\n",
    "            if(arr[j]>a[j+1]):\n",
    "                temp=arr[j]\n",
    "                arr[j]=arr[j+1]\n",
    "                arr[j+1]=temp\n",
    "        print(arr)\n",
    "        print(\"Top Five Scores are:\",arr[:-6:-1])\n",
    "                \n",
    "    n=int(input(\"Enter the No of the Students:\"))\n",
    "    arr=[]\n",
    "    i=[]\n",
    "    for i in range(n):\n",
    "        item=float(input(\"Enter the %of the students:\"))\n",
    "        arr.append(item)\n",
    "        print(\"Entered %of the Student are:\",arr)\n",
    "        while True:\n",
    "            print(\"*****Menu*****\")\n",
    "            print(\"1.Selection Sort\")\n",
    "            print(\"2.Bubble sort\")\n",
    "            print(\"3.Exit\")\n",
    "            ch=int(input(\"Enter your Choice:\"))\n",
    "            \n",
    "            if ch==1:\n",
    "                print(\"Sorted Scores after Selection Sort are:\")\n",
    "                SelectionSort(arr,n)\n",
    "                if ch==2:\n",
    "                    print(\"Sorted Scores after Bubble sort are:\")\n",
    "                    BubbleSort(arr,n)\n",
    "                    if ch==3:\n",
    "                        break;\n",
    "            \n",
    "            \n",
    "        \n",
    "        \n",
    "                    \n",
    "                \n",
    "                "
   ]
  },
  {
   "cell_type": "code",
   "execution_count": null,
   "id": "edaee634",
   "metadata": {},
   "outputs": [],
   "source": []
  },
  {
   "cell_type": "code",
   "execution_count": null,
   "id": "92364c2e",
   "metadata": {},
   "outputs": [],
   "source": []
  }
 ],
 "metadata": {
  "kernelspec": {
   "display_name": "Python 3 (ipykernel)",
   "language": "python",
   "name": "python3"
  },
  "language_info": {
   "codemirror_mode": {
    "name": "ipython",
    "version": 3
   },
   "file_extension": ".py",
   "mimetype": "text/x-python",
   "name": "python",
   "nbconvert_exporter": "python",
   "pygments_lexer": "ipython3",
   "version": "3.9.13"
  }
 },
 "nbformat": 4,
 "nbformat_minor": 5
}
